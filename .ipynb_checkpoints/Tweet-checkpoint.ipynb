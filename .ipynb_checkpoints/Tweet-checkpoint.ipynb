{
 "cells": [
  {
   "cell_type": "code",
   "execution_count": 33,
   "id": "d40f3dda",
   "metadata": {},
   "outputs": [],
   "source": [
    "import tweepy\n",
    "import webbrowser\n",
    "import time"
   ]
  },
  {
   "cell_type": "code",
   "execution_count": 34,
   "id": "3a0fd629",
   "metadata": {},
   "outputs": [],
   "source": [
    "consumer_key = 'RXyzY4GblV072T9UzSFu6rxs3'\n",
    "consumer_secret = 'Nq3Jg7PpBP5HlZOpL8H9MwcByP9N2HQ8zVV5RJoZJDJju53sot'"
   ]
  },
  {
   "cell_type": "code",
   "execution_count": 35,
   "id": "9bdfc79a",
   "metadata": {},
   "outputs": [],
   "source": [
    "callback_uri = 'oob'"
   ]
  },
  {
   "cell_type": "code",
   "execution_count": 37,
   "id": "73bc6e1b",
   "metadata": {},
   "outputs": [
    {
     "name": "stdout",
     "output_type": "stream",
     "text": [
      "https://api.twitter.com/oauth/authorize?oauth_token=54y2eQAAAAABayTNAAABf8eaoAk\n"
     ]
    }
   ],
   "source": [
    "auth = tweepy.OAuthHandler(consumer_key, consumer_secret, callback_uri)\n",
    "redirect_url = auth.get_authorization_url()\n",
    "print(redirect_url)"
   ]
  },
  {
   "cell_type": "code",
   "execution_count": null,
   "id": "6e9a88e0",
   "metadata": {},
   "outputs": [],
   "source": []
  },
  {
   "cell_type": "code",
   "execution_count": 38,
   "id": "dde82e71",
   "metadata": {},
   "outputs": [
    {
     "data": {
      "text/plain": [
       "True"
      ]
     },
     "execution_count": 38,
     "metadata": {},
     "output_type": "execute_result"
    },
    {
     "name": "stderr",
     "output_type": "stream",
     "text": [
      "Gtk-Message: Failed to load module \"colorreload-gtk-module\"\n",
      "Gtk-Message: Failed to load module \"window-decorations-gtk-module\"\n",
      "[54344:54369:0326/220120.833808:ERROR:object_proxy.cc(623)] Failed to call method: org.freedesktop.DBus.ListActivatableNames: object_path= /org/freedesktop/DBus: org.freedesktop.DBus.Error.AccessDenied: An AppArmor policy prevents this sender from sending this message to this recipient; type=\"method_call\", sender=\":1.1632\" (uid=1000 pid=54344 comm=\"/snap/brave/150/opt/brave.com/brave/brave --enable\" label=\"snap.brave.brave (enforce)\") interface=\"org.freedesktop.DBus\" member=\"ListActivatableNames\" error name=\"(unset)\" requested_reply=\"0\" destination=\"org.freedesktop.DBus\" (bus)\n",
      "[54344:54344:0326/220120.852019:ERROR:object_proxy.cc(623)] Failed to call method: org.kde.KWallet.isEnabled: object_path= /modules/kwalletd5: org.freedesktop.DBus.Error.AccessDenied: An AppArmor policy prevents this sender from sending this message to this recipient; type=\"method_call\", sender=\":1.1633\" (uid=1000 pid=54344 comm=\"/snap/brave/150/opt/brave.com/brave/brave --enable\" label=\"snap.brave.brave (enforce)\") interface=\"org.kde.KWallet\" member=\"isEnabled\" error name=\"(unset)\" requested_reply=\"0\" destination=\"org.kde.kwalletd5\" (uid=1000 pid=3028 comm=\"/usr/bin/kwalletd5 --pam-login 7 8 \" label=\"unconfined\")\n",
      "[54344:54344:0326/220120.852088:ERROR:kwallet_dbus.cc(100)] Error contacting kwalletd5 (isEnabled)\n",
      "[54344:54344:0326/220120.853217:ERROR:object_proxy.cc(623)] Failed to call method: org.kde.KLauncher.start_service_by_desktop_name: object_path= /KLauncher: org.freedesktop.DBus.Error.ServiceUnknown: The name org.kde.klauncher was not provided by any .service files\n",
      "[54344:54344:0326/220120.853251:ERROR:kwallet_dbus.cc(72)] Error contacting klauncher to start kwalletd5\n",
      "[54344:54344:0326/220120.854184:ERROR:object_proxy.cc(623)] Failed to call method: org.kde.KWallet.close: object_path= /modules/kwalletd5: org.freedesktop.DBus.Error.AccessDenied: An AppArmor policy prevents this sender from sending this message to this recipient; type=\"method_call\", sender=\":1.1633\" (uid=1000 pid=54344 comm=\"/snap/brave/150/opt/brave.com/brave/brave --enable\" label=\"snap.brave.brave (enforce)\") interface=\"org.kde.KWallet\" member=\"close\" error name=\"(unset)\" requested_reply=\"0\" destination=\"org.kde.kwalletd5\" (uid=1000 pid=3028 comm=\"/usr/bin/kwalletd5 --pam-login 7 8 \" label=\"unconfined\")\n",
      "[54344:54344:0326/220120.854214:ERROR:kwallet_dbus.cc(418)] Error contacting kwalletd5 (close)\n"
     ]
    },
    {
     "name": "stdout",
     "output_type": "stream",
     "text": [
      "Opening in existing browser session.\n"
     ]
    }
   ],
   "source": [
    "webbrowser.open(redirect_url)"
   ]
  },
  {
   "cell_type": "code",
   "execution_count": 39,
   "id": "f9823674",
   "metadata": {},
   "outputs": [
    {
     "name": "stdout",
     "output_type": "stream",
     "text": [
      "What's the pin value? 8048689\n"
     ]
    }
   ],
   "source": [
    "user_pin_input = input(\"What's the pin value? \")"
   ]
  },
  {
   "cell_type": "code",
   "execution_count": 40,
   "id": "c8ef4805",
   "metadata": {},
   "outputs": [
    {
     "data": {
      "text/plain": [
       "'8048689'"
      ]
     },
     "execution_count": 40,
     "metadata": {},
     "output_type": "execute_result"
    }
   ],
   "source": [
    "user_pin_input"
   ]
  },
  {
   "cell_type": "code",
   "execution_count": 41,
   "id": "c2cc2e06",
   "metadata": {},
   "outputs": [
    {
     "data": {
      "text/plain": [
       "('1393477474634375177-jceneeq6P0LfnRrfZnOCim9Fo68D1T',\n",
       " 'l0agblh2kbexMqjRZp1kl0CkvUv6v76BvM4afZRo16xjS')"
      ]
     },
     "execution_count": 41,
     "metadata": {},
     "output_type": "execute_result"
    }
   ],
   "source": [
    "auth.get_access_token(user_pin_input)"
   ]
  },
  {
   "cell_type": "code",
   "execution_count": 42,
   "id": "65cc8c82",
   "metadata": {},
   "outputs": [],
   "source": [
    "api = tweepy.API(auth)"
   ]
  },
  {
   "cell_type": "code",
   "execution_count": 45,
   "id": "5d832177",
   "metadata": {},
   "outputs": [
    {
     "ename": "AttributeError",
     "evalue": "'API' object has no attribute 'me'",
     "output_type": "error",
     "traceback": [
      "\u001b[0;31m---------------------------------------------------------------------------\u001b[0m",
      "\u001b[0;31mAttributeError\u001b[0m                            Traceback (most recent call last)",
      "Input \u001b[0;32mIn [45]\u001b[0m, in \u001b[0;36m<cell line: 1>\u001b[0;34m()\u001b[0m\n\u001b[0;32m----> 1\u001b[0m me \u001b[38;5;241m=\u001b[39m \u001b[43mapi\u001b[49m\u001b[38;5;241;43m.\u001b[39;49m\u001b[43mme\u001b[49m()\n\u001b[1;32m      2\u001b[0m \u001b[38;5;28mprint\u001b[39m(me\u001b[38;5;241m.\u001b[39mscreen_name)\n",
      "\u001b[0;31mAttributeError\u001b[0m: 'API' object has no attribute 'me'"
     ]
    }
   ],
   "source": [
    "me = api.me()\n",
    "print(me.screen_name)"
   ]
  },
  {
   "cell_type": "code",
   "execution_count": null,
   "id": "56502511",
   "metadata": {},
   "outputs": [],
   "source": []
  },
  {
   "cell_type": "code",
   "execution_count": null,
   "id": "7f65a031",
   "metadata": {},
   "outputs": [],
   "source": []
  }
 ],
 "metadata": {
  "kernelspec": {
   "display_name": "Python 3 (ipykernel)",
   "language": "python",
   "name": "python3"
  },
  "language_info": {
   "codemirror_mode": {
    "name": "ipython",
    "version": 3
   },
   "file_extension": ".py",
   "mimetype": "text/x-python",
   "name": "python",
   "nbconvert_exporter": "python",
   "pygments_lexer": "ipython3",
   "version": "3.8.10"
  }
 },
 "nbformat": 4,
 "nbformat_minor": 5
}
